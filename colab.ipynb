{
 "cells": [
  {
   "cell_type": "code",
   "execution_count": null,
   "metadata": {},
   "outputs": [],
   "source": [
    "!git clone https://github.com/LucyTuan/crack_segmentation.git\n",
    "%cd crack_segmentation/"
   ]
  },
  {
   "cell_type": "code",
   "execution_count": null,
   "metadata": {},
   "outputs": [],
   "source": [
    "%pip install opencv-python matplotlib scipy numpy tqdm pillow"
   ]
  },
  {
   "cell_type": "code",
   "execution_count": null,
   "metadata": {},
   "outputs": [],
   "source": [
    "import gdown\n",
    "url = \"https://drive.google.com/u/0/uc?id=116ypl3J4k7CmoDs0_lxpCSr6gqLbfTee&export=download\"\n",
    "%mkdir models\n",
    "output = \"./models/model_unet_vgg_16_best.pt\"\n",
    "gdown.download(url,output)"
   ]
  },
  {
   "cell_type": "code",
   "execution_count": null,
   "metadata": {},
   "outputs": [],
   "source": [
    "%run inference_unet.py  -img_dir ./test_imgs -model_path ./models/model_unet_vgg_16_best.pt -out_pred_dir ./test_results"
   ]
  }
 ],
 "metadata": {
  "interpreter": {
   "hash": "42bf14bda2e93debcb7ddb25066e4ff43abfc447923b5c22f565368bd2263939"
  },
  "kernelspec": {
   "display_name": "Python 3.9.12 ('crack')",
   "language": "python",
   "name": "python3"
  },
  "language_info": {
   "codemirror_mode": {
    "name": "ipython",
    "version": 3
   },
   "file_extension": ".py",
   "mimetype": "text/x-python",
   "name": "python",
   "nbconvert_exporter": "python",
   "pygments_lexer": "ipython3",
   "version": "3.9.12"
  },
  "orig_nbformat": 4
 },
 "nbformat": 4,
 "nbformat_minor": 2
}
